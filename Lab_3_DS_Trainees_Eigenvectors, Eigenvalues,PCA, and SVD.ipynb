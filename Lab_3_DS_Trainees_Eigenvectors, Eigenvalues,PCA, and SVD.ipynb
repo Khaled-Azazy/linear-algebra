{
 "cells": [
  {
   "cell_type": "markdown",
   "id": "41c38e8b",
   "metadata": {},
   "source": [
    "## Eigenvectors and Eigenvalues\n",
    "### Use numpy only\n",
    "#### Find eigenvalues and eigenvevtors of the following:"
   ]
  },
  {
   "cell_type": "markdown",
   "id": "37b5f8e9",
   "metadata": {},
   "source": [
    "$$\\begin{bmatrix} 1&0 \\\\ 0&2 \\end{bmatrix}$$\n",
    "$$\\begin{bmatrix} 1&2 \\\\ 3&-4 \\end{bmatrix}$$"
   ]
  },
  {
   "cell_type": "code",
   "execution_count": 1,
   "id": "f0eb7b31",
   "metadata": {},
   "outputs": [],
   "source": [
    "import numpy as np"
   ]
  },
  {
   "cell_type": "code",
   "execution_count": 8,
   "id": "550cefa9",
   "metadata": {},
   "outputs": [],
   "source": [
    "a = np.array([[1,0],\n",
    "            [0,2]])"
   ]
  },
  {
   "cell_type": "code",
   "execution_count": 6,
   "id": "7ed3e466",
   "metadata": {},
   "outputs": [],
   "source": [
    "val,vec = np.linalg.eig(a)"
   ]
  },
  {
   "cell_type": "code",
   "execution_count": 7,
   "id": "1456d4dd",
   "metadata": {},
   "outputs": [
    {
     "data": {
      "text/plain": [
       "(array([1., 2.]),\n",
       " array([[1., 0.],\n",
       "        [0., 1.]]))"
      ]
     },
     "execution_count": 7,
     "metadata": {},
     "output_type": "execute_result"
    }
   ],
   "source": [
    "val, vec"
   ]
  },
  {
   "cell_type": "code",
   "execution_count": 12,
   "id": "191b38ab",
   "metadata": {},
   "outputs": [],
   "source": [
    "a = np.array([[1,2],\n",
    "            [3,-4]])"
   ]
  },
  {
   "cell_type": "code",
   "execution_count": 13,
   "id": "550cefa9",
   "metadata": {},
   "outputs": [],
   "source": [
    "val,vec = np.linalg.eig(a)"
   ]
  },
  {
   "cell_type": "code",
   "execution_count": 14,
   "id": "d782b58e",
   "metadata": {},
   "outputs": [
    {
     "data": {
      "text/plain": [
       "(array([ 2., -5.]),\n",
       " array([[ 0.89442719, -0.31622777],\n",
       "        [ 0.4472136 ,  0.9486833 ]]))"
      ]
     },
     "execution_count": 14,
     "metadata": {},
     "output_type": "execute_result"
    }
   ],
   "source": [
    "val, vec"
   ]
  },
  {
   "cell_type": "markdown",
   "id": "c2422d5b",
   "metadata": {},
   "source": [
    "# PCA Using Eigen Decomposition"
   ]
  },
  {
   "cell_type": "markdown",
   "id": "4b1752df",
   "metadata": {},
   "source": [
    "### Create a matrix contains the following data"
   ]
  },
  {
   "cell_type": "code",
   "execution_count": 26,
   "id": "f9d03ab7",
   "metadata": {},
   "outputs": [
    {
     "data": {
      "text/plain": [
       "array([[1, 2, 3, 4],\n",
       "       [5, 5, 6, 7],\n",
       "       [1, 4, 2, 3],\n",
       "       [5, 3, 2, 1],\n",
       "       [8, 1, 2, 2]])"
      ]
     },
     "execution_count": 26,
     "metadata": {},
     "output_type": "execute_result"
    }
   ],
   "source": [
    "x= np.array([[1,2,3,4],\n",
    "        [5,5,6,7],\n",
    "        [1,4,2,3],\n",
    "        [5,3,2,1],\n",
    "        [8,1,2,2]])\n",
    "x"
   ]
  },
  {
   "cell_type": "markdown",
   "id": "0a0fbad8",
   "metadata": {},
   "source": [
    "### Step 1: Standardize the dataset (Subtract mean and divide by standard deviation)."
   ]
  },
  {
   "cell_type": "code",
   "execution_count": 28,
   "id": "f1ee26eb",
   "metadata": {},
   "outputs": [
    {
     "data": {
      "text/plain": [
       "(array([4. , 3. , 3. , 3.4]),\n",
       " array([2.68328157, 1.41421356, 1.54919334, 2.05912603]))"
      ]
     },
     "execution_count": 28,
     "metadata": {},
     "output_type": "execute_result"
    }
   ],
   "source": [
    "mean = x.mean(axis=0)\n",
    "std = x.std(axis=0)\n",
    "mean, std"
   ]
  },
  {
   "cell_type": "code",
   "execution_count": 29,
   "id": "af7a446e",
   "metadata": {},
   "outputs": [
    {
     "data": {
      "text/plain": [
       "array([[-1.11803399, -0.70710678,  0.        ,  0.29138576],\n",
       "       [ 0.372678  ,  1.41421356,  1.93649167,  1.74831455],\n",
       "       [-1.11803399,  0.70710678, -0.64549722, -0.19425717],\n",
       "       [ 0.372678  ,  0.        , -0.64549722, -1.16554303],\n",
       "       [ 1.49071198, -1.41421356, -0.64549722, -0.6799001 ]])"
      ]
     },
     "execution_count": 29,
     "metadata": {},
     "output_type": "execute_result"
    }
   ],
   "source": [
    "x = (x - mean) / std\n",
    "x"
   ]
  },
  {
   "cell_type": "markdown",
   "id": "764bcd06",
   "metadata": {},
   "source": [
    "### Step 2: Calculate the covariance matrix for the features in the dataset.\n",
    "#### Use the formula (X.T@X) / n then confirm using np.cov()"
   ]
  },
  {
   "cell_type": "code",
   "execution_count": 39,
   "id": "9506a401",
   "metadata": {},
   "outputs": [],
   "source": [
    "con_m  = np.dot(x.T,x)/x.shape[0]"
   ]
  },
  {
   "cell_type": "code",
   "execution_count": 42,
   "id": "97e88faa",
   "metadata": {},
   "outputs": [
    {
     "data": {
      "text/plain": [
       "array([[ 1.        , -0.31622777,  0.04811252, -0.18098843],\n",
       "       [-0.31622777,  1.        ,  0.63900965,  0.61812254],\n",
       "       [ 0.04811252,  0.63900965,  1.        ,  0.94044349],\n",
       "       [-0.18098843,  0.61812254,  0.94044349,  1.        ]])"
      ]
     },
     "execution_count": 42,
     "metadata": {},
     "output_type": "execute_result"
    }
   ],
   "source": [
    "np.cov(x.T,ddof=0)"
   ]
  },
  {
   "cell_type": "code",
   "execution_count": 26,
   "id": "f1151741",
   "metadata": {},
   "outputs": [
    {
     "name": "stdout",
     "output_type": "stream",
     "text": [
      "Using np.cov():\n",
      "[[ 1.         -0.31622777  0.04811252 -0.18098843]\n",
      " [-0.31622777  1.          0.63900965  0.61812254]\n",
      " [ 0.04811252  0.63900965  1.          0.94044349]\n",
      " [-0.18098843  0.61812254  0.94044349  1.        ]]\n"
     ]
    }
   ],
   "source": []
  },
  {
   "cell_type": "markdown",
   "id": "dc324de0",
   "metadata": {},
   "source": [
    "### Step 3: Calculate the eigenvalues and eigenvectors for the covariance matrix.\n",
    "### Step 4: Sort eigenvalues and their corresponding eigenvectors."
   ]
  },
  {
   "cell_type": "code",
   "execution_count": 43,
   "id": "c9656b1b",
   "metadata": {},
   "outputs": [
    {
     "data": {
      "text/plain": [
       "(array([2.51579324, 1.0652885 , 0.39388704, 0.02503121]),\n",
       " array([[ 0.16195986, -0.91705888, -0.30707099,  0.19616173],\n",
       "        [-0.52404813,  0.20692161, -0.81731886,  0.12061043],\n",
       "        [-0.58589647, -0.3205394 ,  0.1882497 , -0.72009851],\n",
       "        [-0.59654663, -0.11593512,  0.44973251,  0.65454704]]))"
      ]
     },
     "execution_count": 43,
     "metadata": {},
     "output_type": "execute_result"
    }
   ],
   "source": [
    "con_m = np.linalg.eig(con_m)\n",
    "con_m"
   ]
  },
  {
   "cell_type": "code",
   "execution_count": 44,
   "id": "8c374837",
   "metadata": {},
   "outputs": [
    {
     "data": {
      "text/plain": [
       "array([2.51579324, 1.0652885 , 0.39388704, 0.02503121])"
      ]
     },
     "execution_count": 44,
     "metadata": {},
     "output_type": "execute_result"
    }
   ],
   "source": [
    "con_m[0]"
   ]
  },
  {
   "cell_type": "code",
   "execution_count": 45,
   "id": "62598f81",
   "metadata": {},
   "outputs": [
    {
     "data": {
      "text/plain": [
       "array([[ 0.16195986, -0.91705888, -0.30707099,  0.19616173],\n",
       "       [-0.52404813,  0.20692161, -0.81731886,  0.12061043],\n",
       "       [-0.58589647, -0.3205394 ,  0.1882497 , -0.72009851],\n",
       "       [-0.59654663, -0.11593512,  0.44973251,  0.65454704]])"
      ]
     },
     "execution_count": 45,
     "metadata": {},
     "output_type": "execute_result"
    }
   ],
   "source": [
    "con_m[1]"
   ]
  },
  {
   "cell_type": "markdown",
   "id": "21d2a699",
   "metadata": {},
   "source": [
    "### Step 5: Pick k eigenvalues and form a matrix of eigenvectors."
   ]
  },
  {
   "cell_type": "markdown",
   "id": "51f02938",
   "metadata": {},
   "source": [
    "#### Select the first 2 eigen vectors"
   ]
  },
  {
   "cell_type": "code",
   "execution_count": 49,
   "id": "eb678f39",
   "metadata": {},
   "outputs": [
    {
     "data": {
      "text/plain": [
       "array([[ 0.16195986, -0.91705888],\n",
       "       [-0.52404813,  0.20692161],\n",
       "       [-0.58589647, -0.3205394 ],\n",
       "       [-0.59654663, -0.11593512]])"
      ]
     },
     "execution_count": 49,
     "metadata": {},
     "output_type": "execute_result"
    }
   ],
   "source": [
    "con_m[1][:,:2]"
   ]
  },
  {
   "cell_type": "code",
   "execution_count": 30,
   "id": "ff3591da",
   "metadata": {},
   "outputs": [
    {
     "data": {
      "text/plain": [
       "array([[ 0.16195986, -0.91705888],\n",
       "       [-0.52404813,  0.20692161],\n",
       "       [-0.58589647, -0.3205394 ],\n",
       "       [-0.59654663, -0.11593512]])"
      ]
     },
     "execution_count": 30,
     "metadata": {},
     "output_type": "execute_result"
    }
   ],
   "source": []
  },
  {
   "cell_type": "markdown",
   "id": "c2d4378e",
   "metadata": {},
   "source": [
    "### Step 6:Transform the original matrix."
   ]
  },
  {
   "cell_type": "code",
   "execution_count": 61,
   "id": "935ecf52",
   "metadata": {},
   "outputs": [
    {
     "data": {
      "text/plain": [
       "array([[ 1.56561741e-02,  8.45205482e-01],\n",
       "       [-2.85829190e+00, -8.72549250e-01],\n",
       "       [-5.75566043e-02,  1.40104719e+00],\n",
       "       [ 1.13385419e+00,  2.66995807e-04],\n",
       "       [ 1.76633814e+00, -1.37397042e+00]])"
      ]
     },
     "execution_count": 61,
     "metadata": {},
     "output_type": "execute_result"
    }
   ],
   "source": [
    "np.dot(x,con_m[1][:,:2])"
   ]
  },
  {
   "cell_type": "code",
   "execution_count": 31,
   "id": "a190ca49",
   "metadata": {},
   "outputs": [
    {
     "name": "stdout",
     "output_type": "stream",
     "text": [
      "Transformed Data:\n",
      "[[ 0.01565617  0.84520548]\n",
      " [-2.8582919  -0.87254925]\n",
      " [-0.0575566   1.40104719]\n",
      " [ 1.13385419  0.000267  ]\n",
      " [ 1.76633814 -1.37397042]]\n"
     ]
    }
   ],
   "source": []
  },
  {
   "cell_type": "markdown",
   "id": "9ffbac5e",
   "metadata": {},
   "source": [
    "## SVD\n",
    "### Repeat using SVD and compare the results"
   ]
  },
  {
   "cell_type": "code",
   "execution_count": 54,
   "id": "14bd07fb",
   "metadata": {},
   "outputs": [
    {
     "data": {
      "text/plain": [
       "array([[ 0.16195986, -0.52404813, -0.58589647, -0.59654663],\n",
       "       [-0.91705888,  0.20692161, -0.3205394 , -0.11593512],\n",
       "       [-0.30707099, -0.81731886,  0.1882497 ,  0.44973251],\n",
       "       [ 0.19616173,  0.12061043, -0.72009851,  0.65454704]])"
      ]
     },
     "execution_count": 54,
     "metadata": {},
     "output_type": "execute_result"
    }
   ],
   "source": [
    "svd = np.linalg.svd(x)\n",
    "v = svd[2]\n",
    "v"
   ]
  },
  {
   "cell_type": "code",
   "execution_count": 80,
   "id": "31aff98a",
   "metadata": {},
   "outputs": [
    {
     "data": {
      "text/plain": [
       "0.7691537684455487"
      ]
     },
     "execution_count": 80,
     "metadata": {},
     "output_type": "execute_result"
    }
   ],
   "source": [
    "(svd[1]/svd[1].sum(axis=0))[:2].sum()\n"
   ]
  },
  {
   "cell_type": "code",
   "execution_count": 33,
   "id": "53520673",
   "metadata": {},
   "outputs": [
    {
     "name": "stdout",
     "output_type": "stream",
     "text": [
      "V:\n",
      "[[ 0.16195986 -0.91705888 -0.30707099  0.19616173]\n",
      " [-0.52404813  0.20692161 -0.81731886  0.12061043]\n",
      " [-0.58589647 -0.3205394   0.1882497  -0.72009851]\n",
      " [-0.59654663 -0.11593512  0.44973251  0.65454704]]\n"
     ]
    }
   ],
   "source": [
    "svd[1]"
   ]
  },
  {
   "cell_type": "code",
   "execution_count": 56,
   "id": "048f2605",
   "metadata": {},
   "outputs": [
    {
     "data": {
      "text/plain": [
       "array([3.54668383, 2.30790869, 1.40336568, 0.35377402])"
      ]
     },
     "execution_count": 56,
     "metadata": {},
     "output_type": "execute_result"
    }
   ],
   "source": [
    "svd[1]"
   ]
  },
  {
   "cell_type": "code",
   "execution_count": 82,
   "id": "ef637e8f",
   "metadata": {},
   "outputs": [
    {
     "data": {
      "text/plain": [
       "2.515793237996694"
      ]
     },
     "execution_count": 82,
     "metadata": {},
     "output_type": "execute_result"
    }
   ],
   "source": [
    "(3.54668383*3.54668383)/5"
   ]
  },
  {
   "cell_type": "code",
   "execution_count": 58,
   "id": "8ec22592",
   "metadata": {},
   "outputs": [
    {
     "data": {
      "text/plain": [
       "array([[ 4.41431344e-03,  3.66221370e-01,  7.49835326e-01,\n",
       "        -3.21884149e-01,  4.47213595e-01],\n",
       "       [-8.05905470e-01, -3.78069225e-01, -8.51411283e-02,\n",
       "        -1.81940451e-02,  4.47213595e-01],\n",
       "       [-1.62282873e-02,  6.07063528e-01, -3.16021938e-01,\n",
       "         5.75621968e-01,  4.47213595e-01],\n",
       "       [ 3.19694183e-01,  1.15687336e-04, -5.41652025e-01,\n",
       "        -6.35931364e-01,  4.47213595e-01],\n",
       "       [ 4.98025260e-01, -5.95331360e-01,  1.92979765e-01,\n",
       "         4.00387590e-01,  4.47213595e-01]])"
      ]
     },
     "execution_count": 58,
     "metadata": {},
     "output_type": "execute_result"
    }
   ],
   "source": [
    "svd[0]"
   ]
  },
  {
   "cell_type": "code",
   "execution_count": 63,
   "id": "0e97240d",
   "metadata": {},
   "outputs": [
    {
     "data": {
      "text/plain": [
       "array([[ 1.56561741e-02,  8.45205482e-01],\n",
       "       [-2.85829190e+00, -8.72549250e-01],\n",
       "       [-5.75566043e-02,  1.40104719e+00],\n",
       "       [ 1.13385419e+00,  2.66995807e-04],\n",
       "       [ 1.76633814e+00, -1.37397042e+00]])"
      ]
     },
     "execution_count": 63,
     "metadata": {},
     "output_type": "execute_result"
    }
   ],
   "source": [
    "np.dot(x,svd[2][:2].T)"
   ]
  },
  {
   "cell_type": "code",
   "execution_count": 38,
   "id": "87ae01b5",
   "metadata": {},
   "outputs": [
    {
     "name": "stdout",
     "output_type": "stream",
     "text": [
      "Transformed Data:\n",
      "[[ 0.01565617  0.84520548]\n",
      " [-2.8582919  -0.87254925]\n",
      " [-0.0575566   1.40104719]\n",
      " [ 1.13385419  0.000267  ]\n",
      " [ 1.76633814 -1.37397042]]\n"
     ]
    }
   ],
   "source": []
  },
  {
   "cell_type": "code",
   "execution_count": null,
   "id": "1da3f10a",
   "metadata": {},
   "outputs": [],
   "source": []
  },
  {
   "cell_type": "code",
   "execution_count": null,
   "id": "c79beaf7",
   "metadata": {},
   "outputs": [],
   "source": []
  }
 ],
 "metadata": {
  "kernelspec": {
   "display_name": "base",
   "language": "python",
   "name": "python3"
  },
  "language_info": {
   "codemirror_mode": {
    "name": "ipython",
    "version": 3
   },
   "file_extension": ".py",
   "mimetype": "text/x-python",
   "name": "python",
   "nbconvert_exporter": "python",
   "pygments_lexer": "ipython3",
   "version": "3.9.12"
  },
  "vscode": {
   "interpreter": {
    "hash": "3ae364a8bee9e35fdd929719cbdf9e88d2269dcd731e4b2a2c32cc9a820825cc"
   }
  }
 },
 "nbformat": 4,
 "nbformat_minor": 5
}
