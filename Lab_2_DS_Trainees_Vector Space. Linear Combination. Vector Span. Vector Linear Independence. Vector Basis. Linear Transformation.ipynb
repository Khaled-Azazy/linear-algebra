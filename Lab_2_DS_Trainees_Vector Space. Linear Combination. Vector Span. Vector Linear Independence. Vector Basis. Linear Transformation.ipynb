{
 "cells": [
  {
   "cell_type": "markdown",
   "id": "dd5fdc2a",
   "metadata": {},
   "source": [
    "## Linear Combination\n",
    "### Use NumPy"
   ]
  },
  {
   "cell_type": "markdown",
   "id": "38364291",
   "metadata": {},
   "source": [
    "$$v_1=\\begin{bmatrix} 1 \\\\ 2 \\\\ 3 \\end{bmatrix},\n",
    "v_2=\\begin{bmatrix} 3 \\\\ 5 \\\\ 1 \\end{bmatrix},\n",
    "v_3=\\begin{bmatrix} 0 \\\\ 0 \\\\ 8 \\end{bmatrix}$$\n",
    "- Find <b>b</b> vector where $$b=3v_1+0v_2+0v_3$$\n",
    "- Find <b>x</b> vector where $$x=-v_1+v_2-0.5v_3$$"
   ]
  },
  {
   "cell_type": "code",
   "execution_count": 1,
   "id": "07542d77",
   "metadata": {},
   "outputs": [],
   "source": [
    "import numpy as np\n",
    "import sympy as sp"
   ]
  },
  {
   "cell_type": "code",
   "execution_count": 2,
   "id": "33245f5d",
   "metadata": {},
   "outputs": [],
   "source": [
    "v1 = np.array([1,2,3])\n",
    "v2 = np.array([3,5,1])\n",
    "v3 = np.array([0,0,8])"
   ]
  },
  {
   "cell_type": "code",
   "execution_count": 3,
   "id": "fe0eb854",
   "metadata": {},
   "outputs": [
    {
     "data": {
      "text/plain": [
       "(array([[3],\n",
       "        [6],\n",
       "        [9]]),\n",
       " array([[ 2.],\n",
       "        [ 3.],\n",
       "        [-6.]]))"
      ]
     },
     "execution_count": 3,
     "metadata": {},
     "output_type": "execute_result"
    }
   ],
   "source": [
    "b = 3*v1\n",
    "x = -1*v1 + v2 - 0.5*v3\n",
    "b.reshape(-1,1), x.reshape(-1,1)"
   ]
  },
  {
   "cell_type": "markdown",
   "id": "54955382",
   "metadata": {},
   "source": [
    "## Vector Span\n",
    "### Use Numpy (matrix inverse) and SymPy (rref)"
   ]
  },
  {
   "cell_type": "markdown",
   "id": "9d440a16",
   "metadata": {},
   "source": [
    "#### Is $$v=\\begin{bmatrix} 19 \\\\ 10 \\\\ -1 \\end{bmatrix}$$ in the span of \n",
    "$$v_1=\\begin{bmatrix} 3 \\\\ -1 \\\\ 2 \\end{bmatrix},\n",
    "v_2=\\begin{bmatrix} -5 \\\\ 0 \\\\ 1 \\end{bmatrix},\n",
    "v_3=\\begin{bmatrix} 1 \\\\ 7 \\\\ -4 \\end{bmatrix}$$"
   ]
  },
  {
   "cell_type": "code",
   "execution_count": 4,
   "id": "eb0acfc2",
   "metadata": {},
   "outputs": [],
   "source": [
    "v = np.array([19,10,-1])"
   ]
  },
  {
   "cell_type": "code",
   "execution_count": 5,
   "id": "6da888d4",
   "metadata": {},
   "outputs": [
    {
     "name": "stdout",
     "output_type": "stream",
     "text": [
      "[ 4. -1.  2.]\n",
      "[[ 4.]\n",
      " [-1.]\n",
      " [ 2.]]\n"
     ]
    }
   ],
   "source": [
    "a = np.array([[3,-5,1],\n",
    "            [-1,0,7],\n",
    "            [2,1,-4]])\n",
    "print(np.linalg.solve(a,v)) \n",
    "print(np.matmul(np.linalg.inv(a),v.reshape(3,-1)))\n",
    "# v is in the span of v1, v2, v3\n",
    "# so the solution is a = 4, b = -1, c = 2"
   ]
  },
  {
   "cell_type": "code",
   "execution_count": 6,
   "id": "2236ef8a",
   "metadata": {},
   "outputs": [
    {
     "data": {
      "text/plain": [
       "(Matrix([\n",
       " [1, 0, 0,  4],\n",
       " [0, 1, 0, -1],\n",
       " [0, 0, 1,  2]]),\n",
       " (0, 1, 2))"
      ]
     },
     "execution_count": 6,
     "metadata": {},
     "output_type": "execute_result"
    }
   ],
   "source": [
    "a = sp.Matrix([[3,-5,1,19],\n",
    "            [-1,0,7,10],\n",
    "            [2,1,-4,-1]])\n",
    "a.rref()\n",
    "# v is in the span of v1, v2, v3\n",
    "# so the solution is a = 4, b = -1, c = 2"
   ]
  },
  {
   "cell_type": "markdown",
   "id": "821a71ae",
   "metadata": {},
   "source": [
    "## Vector Linear Independence\n",
    "### Use rref and determinant\n",
    "- Consider the following sets of vectors in R3. If the set is independent, prove it. \n",
    "- If the set is dependent, find a nontrivial linear combination of the vectors which is equal to 0.\n",
    "    - {(2, 0, -3), (1, 1, 1), (1, 7, 2)}.\n",
    "    - {(1, 2, -1), (4, 1, 3), (-10, 1, -11)}.\n",
    "\n",
    "<b>Hint: we have to determine whether this implies that 𝒂=𝒃=𝒄=𝟎.</b>"
   ]
  },
  {
   "cell_type": "code",
   "execution_count": 7,
   "id": "765fd9a0",
   "metadata": {},
   "outputs": [
    {
     "data": {
      "text/plain": [
       "(Matrix([\n",
       " [1, 0, 0],\n",
       " [0, 1, 0],\n",
       " [0, 0, 1]]),\n",
       " (0, 1, 2))"
      ]
     },
     "execution_count": 7,
     "metadata": {},
     "output_type": "execute_result"
    }
   ],
   "source": [
    "a = sp.Matrix([[2,1,1],\n",
    "            [0,1,7],\n",
    "            [-3,1,2]])\n",
    "a.rref()\n",
    "# it is independent"
   ]
  },
  {
   "cell_type": "code",
   "execution_count": 8,
   "id": "51c3ffd9",
   "metadata": {},
   "outputs": [
    {
     "data": {
      "text/plain": [
       "(Matrix([\n",
       " [1, 0,  2],\n",
       " [0, 1, -3],\n",
       " [0, 0,  0]]),\n",
       " (0, 1))"
      ]
     },
     "execution_count": 8,
     "metadata": {},
     "output_type": "execute_result"
    }
   ],
   "source": [
    "a = sp.Matrix([[1,4,-10],\n",
    "            [2,1,1],\n",
    "            [-1,3,-11]])\n",
    "a.rref()\n",
    "# this vector is not independent"
   ]
  },
  {
   "cell_type": "code",
   "execution_count": 9,
   "id": "9da287a6",
   "metadata": {},
   "outputs": [],
   "source": [
    "# v3 = 2*v1+ -3*v2\n",
    "# so a = 2, b = -3, c = -1"
   ]
  },
  {
   "cell_type": "code",
   "execution_count": 10,
   "id": "a72c7e98",
   "metadata": {},
   "outputs": [
    {
     "data": {
      "text/plain": [
       "(Matrix([\n",
       " [1, 0,  2, 0],\n",
       " [0, 1, -3, 0],\n",
       " [0, 0,  0, 0]]),\n",
       " (0, 1))"
      ]
     },
     "execution_count": 10,
     "metadata": {},
     "output_type": "execute_result"
    }
   ],
   "source": [
    "a = sp.Matrix([[1,4,-10,0],\n",
    "            [2,1,1,0],\n",
    "            [-1,3,-11,0]])\n",
    "a.rref()\n",
    "# this vector is not independent"
   ]
  },
  {
   "cell_type": "markdown",
   "id": "c88fb001",
   "metadata": {},
   "source": [
    "## Linear Transformation\n",
    "### Ex.1"
   ]
  },
  {
   "cell_type": "markdown",
   "id": "9ef341fd",
   "metadata": {},
   "source": [
    "$$T=\\begin{bmatrix} 1&2 \\\\ 3&7 \\end{bmatrix}$$\n",
    "- Write the linear transformation expression of this matrix. i.e. Linear functions of x,y. \n",
    "- Apply the transformation matrix <b>T</b> to the following vectors:\n",
    "$$\\begin{bmatrix} 1 \\\\ 0 \\end{bmatrix},\\begin{bmatrix} 0 \\\\ 1 \\end{bmatrix} $$\n",
    "- Find all points <b>(x,y)</b> such that <b>T(x,y)=(1,0)</b>"
   ]
  },
  {
   "cell_type": "code",
   "execution_count": 11,
   "id": "15e3e434",
   "metadata": {},
   "outputs": [],
   "source": [
    "# x + 2y\n",
    "# 3x + 7y"
   ]
  },
  {
   "cell_type": "code",
   "execution_count": 12,
   "id": "90cf5495",
   "metadata": {},
   "outputs": [],
   "source": [
    "T = np.array([[1,2],\n",
    "            [3,7]])"
   ]
  },
  {
   "cell_type": "code",
   "execution_count": 13,
   "id": "e82776d2",
   "metadata": {},
   "outputs": [
    {
     "data": {
      "text/plain": [
       "array([1, 3])"
      ]
     },
     "execution_count": 13,
     "metadata": {},
     "output_type": "execute_result"
    }
   ],
   "source": [
    "v = np.array([1,0])\n",
    "np.matmul(T,v)"
   ]
  },
  {
   "cell_type": "code",
   "execution_count": 14,
   "id": "d3e46a3d",
   "metadata": {},
   "outputs": [
    {
     "data": {
      "text/plain": [
       "array([2, 7])"
      ]
     },
     "execution_count": 14,
     "metadata": {},
     "output_type": "execute_result"
    }
   ],
   "source": [
    "v = np.array([0,1])\n",
    "np.matmul(T,v)"
   ]
  },
  {
   "cell_type": "code",
   "execution_count": 15,
   "id": "5e4bdf4e",
   "metadata": {},
   "outputs": [
    {
     "data": {
      "text/plain": [
       "array([ 7., -3.])"
      ]
     },
     "execution_count": 15,
     "metadata": {},
     "output_type": "execute_result"
    }
   ],
   "source": [
    "np.linalg.solve(T,np.array([1,0]))"
   ]
  },
  {
   "attachments": {},
   "cell_type": "markdown",
   "id": "aa9f63c6",
   "metadata": {},
   "source": [
    "### Ex.2\n",
    "### For the expression $$T\\begin{bmatrix} x \\\\ y \\end{bmatrix}=\\begin{bmatrix} x+y \\\\ y \\end{bmatrix}$$\n",
    "- Find the transformation matrix.\n",
    "- Find all points <b>(x,y)</b> such that <b>T(x,y)=(3,4)</b>"
   ]
  },
  {
   "cell_type": "code",
   "execution_count": 16,
   "id": "96dd3fd1",
   "metadata": {},
   "outputs": [
    {
     "data": {
      "text/plain": [
       "array([-1.,  4.])"
      ]
     },
     "execution_count": 16,
     "metadata": {},
     "output_type": "execute_result"
    }
   ],
   "source": [
    "T = np.array([[1,1],\n",
    "                [0,1]])\n",
    "#np.linalg.solve(T,np.array([3,4])).reshape(-1,1)\n",
    "np.linalg.inv(T)@np.array([3,4])"
   ]
  },
  {
   "cell_type": "markdown",
   "id": "81b7edf9",
   "metadata": {},
   "source": [
    "## Determinant\n",
    "### Find Determinant of:"
   ]
  },
  {
   "cell_type": "markdown",
   "id": "f999e755",
   "metadata": {},
   "source": [
    "$$\\begin{bmatrix} 3&8 \\\\ 4&6 \\end{bmatrix} , \\begin{bmatrix} 4&6 \\\\ 3&8 \\end{bmatrix}$$\n",
    "$$\\begin{bmatrix} 6&1&1 \\\\ 4&-2&5 \\\\ 2&8&7\\end{bmatrix}$$\n",
    "$$\\begin{bmatrix} 3&2&0&1 \\\\ 4&0&1&2 \\\\ 3&0&2&1 \\\\ 9&2&3&1\\end{bmatrix}$$\n"
   ]
  },
  {
   "cell_type": "code",
   "execution_count": 17,
   "id": "95fc52ce",
   "metadata": {},
   "outputs": [
    {
     "data": {
      "text/plain": [
       "-14.000000000000004"
      ]
     },
     "execution_count": 17,
     "metadata": {},
     "output_type": "execute_result"
    }
   ],
   "source": [
    "np.linalg.det(np.array([[3,8],\n",
    "                        [4,6]]))"
   ]
  },
  {
   "cell_type": "code",
   "execution_count": 18,
   "id": "2d579905",
   "metadata": {},
   "outputs": [
    {
     "data": {
      "text/plain": [
       "14.000000000000004"
      ]
     },
     "execution_count": 18,
     "metadata": {},
     "output_type": "execute_result"
    }
   ],
   "source": [
    "np.linalg.det(np.array([[4,6],\n",
    "                        [3,8]]))"
   ]
  },
  {
   "cell_type": "code",
   "execution_count": 19,
   "id": "b0a25b4e",
   "metadata": {},
   "outputs": [
    {
     "data": {
      "text/plain": [
       "-306.0"
      ]
     },
     "execution_count": 19,
     "metadata": {},
     "output_type": "execute_result"
    }
   ],
   "source": [
    "np.linalg.det(np.array([[6,1,1],\n",
    "                        [4,-2,5],\n",
    "                        [2,8,7]]))"
   ]
  },
  {
   "cell_type": "code",
   "execution_count": 20,
   "id": "6223c016",
   "metadata": {},
   "outputs": [
    {
     "data": {
      "text/plain": [
       "24.000000000000004"
      ]
     },
     "execution_count": 20,
     "metadata": {},
     "output_type": "execute_result"
    }
   ],
   "source": [
    "np.linalg.det(np.array([[3,2,0,1],\n",
    "                        [4,0,1,2],\n",
    "                        [3,0,2,1],\n",
    "                        [9,2,3,1]]))"
   ]
  },
  {
   "cell_type": "markdown",
   "id": "3d7f760c",
   "metadata": {},
   "source": [
    "## Matrix Rank\n",
    "### Find the rank of the matrix (use rref and confirm using matrix_rank())"
   ]
  },
  {
   "cell_type": "markdown",
   "id": "39022ae4",
   "metadata": {},
   "source": [
    "$$X = \\begin{bmatrix} 1&2&4&4 \\\\ 3&4&8&0 \\end{bmatrix}$$\n",
    "$$Y = \\begin{bmatrix} 1&2&3 \\\\ 2&3&5 \\\\ 3&4&7 \\\\ 4&5&9  \\end{bmatrix}$$"
   ]
  },
  {
   "cell_type": "code",
   "execution_count": 21,
   "id": "6855c257",
   "metadata": {},
   "outputs": [
    {
     "data": {
      "text/plain": [
       "(Matrix([\n",
       " [1, 0, 0, -8],\n",
       " [0, 1, 2,  6]]),\n",
       " (0, 1))"
      ]
     },
     "execution_count": 21,
     "metadata": {},
     "output_type": "execute_result"
    }
   ],
   "source": [
    "A = sp.Matrix([[1,2,4,4],\n",
    "            [3,4,8,0]])\n",
    "A.rref()\n",
    "# rank is 2 cause we have just 2 pivot cols"
   ]
  },
  {
   "cell_type": "code",
   "execution_count": 22,
   "id": "fa2d10b1",
   "metadata": {},
   "outputs": [
    {
     "data": {
      "text/plain": [
       "2"
      ]
     },
     "execution_count": 22,
     "metadata": {},
     "output_type": "execute_result"
    }
   ],
   "source": [
    "np.linalg.matrix_rank(np.array([[1,2,4,4],\n",
    "            [3,4,8,0]]))"
   ]
  },
  {
   "cell_type": "code",
   "execution_count": 23,
   "id": "864a8f85",
   "metadata": {},
   "outputs": [
    {
     "data": {
      "text/plain": [
       "(Matrix([\n",
       " [1, 0, 1],\n",
       " [0, 1, 1],\n",
       " [0, 0, 0],\n",
       " [0, 0, 0]]),\n",
       " (0, 1))"
      ]
     },
     "execution_count": 23,
     "metadata": {},
     "output_type": "execute_result"
    }
   ],
   "source": [
    "A = sp.Matrix([[1,2,3],\n",
    "            [2,3,5],\n",
    "            [3,4,7],\n",
    "            [4,5,9]])\n",
    "A.rref()\n",
    "# rank is 2 cause we have just 2 pivot cols"
   ]
  },
  {
   "cell_type": "code",
   "execution_count": 24,
   "id": "2904e75c",
   "metadata": {},
   "outputs": [
    {
     "data": {
      "text/plain": [
       "2"
      ]
     },
     "execution_count": 24,
     "metadata": {},
     "output_type": "execute_result"
    }
   ],
   "source": [
    "np.linalg.matrix_rank(np.array([[1,2,3],\n",
    "            [2,3,5],\n",
    "            [3,4,7],\n",
    "            [4,5,9]]))"
   ]
  },
  {
   "cell_type": "markdown",
   "id": "9b55ebcf",
   "metadata": {},
   "source": [
    "## Matrix Inverse\n",
    "### Find the inverse:"
   ]
  },
  {
   "cell_type": "markdown",
   "id": "6f15a14c",
   "metadata": {},
   "source": [
    "$$\\begin{bmatrix} 3&8 \\\\ 4&6 \\end{bmatrix} , \\begin{bmatrix} 4&6 \\\\ 3&8 \\end{bmatrix}$$\n",
    "$$\\begin{bmatrix} 6&1&1 \\\\ 4&-2&5 \\\\ 2&8&7\\end{bmatrix}$$\n",
    "$$\\begin{bmatrix} 3&2&0&1 \\\\ 4&0&1&2 \\\\ 3&0&2&1 \\\\ 9&2&3&1\\end{bmatrix}$$"
   ]
  },
  {
   "cell_type": "code",
   "execution_count": 25,
   "id": "ff81fb7b",
   "metadata": {},
   "outputs": [
    {
     "data": {
      "text/plain": [
       "array([[-0.42857143,  0.57142857],\n",
       "       [ 0.28571429, -0.21428571]])"
      ]
     },
     "execution_count": 25,
     "metadata": {},
     "output_type": "execute_result"
    }
   ],
   "source": [
    "np.linalg.inv(np.array([[3,8],\n",
    "                        [4,6]]))"
   ]
  },
  {
   "cell_type": "code",
   "execution_count": 26,
   "id": "8a96ac97",
   "metadata": {},
   "outputs": [
    {
     "data": {
      "text/plain": [
       "array([[ 0.57142857, -0.42857143],\n",
       "       [-0.21428571,  0.28571429]])"
      ]
     },
     "execution_count": 26,
     "metadata": {},
     "output_type": "execute_result"
    }
   ],
   "source": [
    "np.linalg.inv(np.array([[4,6],\n",
    "                        [3,8]]))"
   ]
  },
  {
   "cell_type": "code",
   "execution_count": 32,
   "id": "1008f7ec",
   "metadata": {},
   "outputs": [
    {
     "data": {
      "text/plain": [
       "array([[ 0.17647059, -0.00326797, -0.02287582],\n",
       "       [ 0.05882353, -0.13071895,  0.08496732],\n",
       "       [-0.11764706,  0.1503268 ,  0.05228758]])"
      ]
     },
     "execution_count": 32,
     "metadata": {},
     "output_type": "execute_result"
    }
   ],
   "source": [
    "np.linalg.inv(np.array([[6,1,1],\n",
    "                        [4,-2,5],\n",
    "                        [2,8,7]]))"
   ]
  },
  {
   "cell_type": "code",
   "execution_count": 33,
   "id": "bb079c70",
   "metadata": {},
   "outputs": [
    {
     "data": {
      "text/plain": [
       "array([[-0.25      ,  0.25      , -0.5       ,  0.25      ],\n",
       "       [ 0.66666667, -0.5       ,  0.5       , -0.16666667],\n",
       "       [ 0.16666667, -0.5       ,  1.        , -0.16666667],\n",
       "       [ 0.41666667,  0.25      ,  0.5       , -0.41666667]])"
      ]
     },
     "execution_count": 33,
     "metadata": {},
     "output_type": "execute_result"
    }
   ],
   "source": [
    "np.linalg.inv(np.array([[3,2,0,1],\n",
    "                        [4,0,1,2],\n",
    "                        [3,0,2,1],\n",
    "                        [9,2,3,1]]))"
   ]
  },
  {
   "cell_type": "code",
   "execution_count": null,
   "id": "05be48f9",
   "metadata": {},
   "outputs": [],
   "source": []
  }
 ],
 "metadata": {
  "kernelspec": {
   "display_name": "base",
   "language": "python",
   "name": "python3"
  },
  "language_info": {
   "codemirror_mode": {
    "name": "ipython",
    "version": 3
   },
   "file_extension": ".py",
   "mimetype": "text/x-python",
   "name": "python",
   "nbconvert_exporter": "python",
   "pygments_lexer": "ipython3",
   "version": "3.9.12"
  },
  "vscode": {
   "interpreter": {
    "hash": "3ae364a8bee9e35fdd929719cbdf9e88d2269dcd731e4b2a2c32cc9a820825cc"
   }
  }
 },
 "nbformat": 4,
 "nbformat_minor": 5
}
