{
 "cells": [
  {
   "cell_type": "code",
   "execution_count": 2,
   "id": "9c0d929f",
   "metadata": {},
   "outputs": [],
   "source": [
    "import numpy as np"
   ]
  },
  {
   "cell_type": "markdown",
   "id": "c56a1fa4",
   "metadata": {},
   "source": [
    "### Practice some NumPy commands:\n",
    "- Create 3 * 3 array.\n",
    "- Check its shape.\n",
    "- Select first row.\n",
    "- Select 2nd column.\n",
    "- Select the 2nd element in the third column.\n",
    "- Create 2*2 from the first two elements of the first 2 rows and columns.\n",
    "- Create single row vector.\n",
    "- Create single column vector."
   ]
  },
  {
   "cell_type": "code",
   "execution_count": 3,
   "id": "997f7eea",
   "metadata": {},
   "outputs": [],
   "source": [
    "a = np.array([[1,2,3],\n",
    "            [4,5,6],\n",
    "            [7,8,9]])"
   ]
  },
  {
   "cell_type": "code",
   "execution_count": 4,
   "id": "d892aa4a",
   "metadata": {},
   "outputs": [
    {
     "data": {
      "text/plain": [
       "(3, 3)"
      ]
     },
     "execution_count": 4,
     "metadata": {},
     "output_type": "execute_result"
    }
   ],
   "source": [
    "a.shape"
   ]
  },
  {
   "cell_type": "code",
   "execution_count": 5,
   "id": "0eade48c",
   "metadata": {},
   "outputs": [
    {
     "data": {
      "text/plain": [
       "array([1, 2, 3])"
      ]
     },
     "execution_count": 5,
     "metadata": {},
     "output_type": "execute_result"
    }
   ],
   "source": [
    "a[0]"
   ]
  },
  {
   "cell_type": "code",
   "execution_count": 6,
   "id": "e61b1cee",
   "metadata": {},
   "outputs": [
    {
     "data": {
      "text/plain": [
       "array([2, 5, 8])"
      ]
     },
     "execution_count": 6,
     "metadata": {},
     "output_type": "execute_result"
    }
   ],
   "source": [
    "a[:,1]"
   ]
  },
  {
   "cell_type": "code",
   "execution_count": 7,
   "id": "36829c4b",
   "metadata": {},
   "outputs": [
    {
     "data": {
      "text/plain": [
       "6"
      ]
     },
     "execution_count": 7,
     "metadata": {},
     "output_type": "execute_result"
    }
   ],
   "source": [
    "a[1,2]"
   ]
  },
  {
   "cell_type": "code",
   "execution_count": 8,
   "id": "905571dc",
   "metadata": {},
   "outputs": [
    {
     "data": {
      "text/plain": [
       "array([[1, 2],\n",
       "       [4, 5]])"
      ]
     },
     "execution_count": 8,
     "metadata": {},
     "output_type": "execute_result"
    }
   ],
   "source": [
    "a[:2,:2]"
   ]
  },
  {
   "cell_type": "code",
   "execution_count": 9,
   "id": "bfe8bd74",
   "metadata": {},
   "outputs": [
    {
     "data": {
      "text/plain": [
       "array([[1, 2, 3, 4, 5, 6, 7, 8, 9]])"
      ]
     },
     "execution_count": 9,
     "metadata": {},
     "output_type": "execute_result"
    }
   ],
   "source": [
    "a.reshape(1,-1)"
   ]
  },
  {
   "cell_type": "code",
   "execution_count": 10,
   "id": "79a00125",
   "metadata": {},
   "outputs": [
    {
     "data": {
      "text/plain": [
       "array([[1],\n",
       "       [2],\n",
       "       [3],\n",
       "       [4],\n",
       "       [5],\n",
       "       [6],\n",
       "       [7],\n",
       "       [8],\n",
       "       [9]])"
      ]
     },
     "execution_count": 10,
     "metadata": {},
     "output_type": "execute_result"
    }
   ],
   "source": [
    "a.reshape(-1,1)"
   ]
  },
  {
   "cell_type": "markdown",
   "id": "935d4b46",
   "metadata": {},
   "source": [
    "## System of linear equations:\n",
    "- The following system of linear equations can be represented as <b>Ax=b</b>.\n",
    "- Define matrix <b>A</b> and vector <b>b</b> as numpy arrays.\n",
    "- Print them out.\n",
    "1. $$3x-y=2$$ $$x=4 $$\n",
    "$$$$\n",
    "2. $$3x-2y=7$$  $$2x-2y=2$$\n",
    "$$$$\n",
    "3. $$2x-2y+z=7$$  $$x+y+z=2$$  $$3x-2y-z=3$$ "
   ]
  },
  {
   "cell_type": "code",
   "execution_count": 19,
   "id": "061552e5",
   "metadata": {},
   "outputs": [
    {
     "data": {
      "text/plain": [
       "(array([[ 3, -1],\n",
       "        [ 1,  0]]),\n",
       " array([[2],\n",
       "        [4]]))"
      ]
     },
     "execution_count": 19,
     "metadata": {},
     "output_type": "execute_result"
    }
   ],
   "source": [
    "A1 = np.array([[3,-1],\n",
    "                [1,0]])\n",
    "b1 = np.array([[2],[4]])\n",
    "# or np.array([2,4])\n",
    "A1,b1"
   ]
  },
  {
   "cell_type": "code",
   "execution_count": 20,
   "id": "59130a5a",
   "metadata": {},
   "outputs": [
    {
     "data": {
      "text/plain": [
       "(array([[ 3, -2],\n",
       "        [ 2, -2]]),\n",
       " array([[4],\n",
       "        [2]]))"
      ]
     },
     "execution_count": 20,
     "metadata": {},
     "output_type": "execute_result"
    }
   ],
   "source": [
    "A2 = np.array([[3,-2],\n",
    "                [2,-2]])\n",
    "b2 = np.array([[4],[2]])\n",
    "# or np.array([2,4])\n",
    "A2,b2"
   ]
  },
  {
   "cell_type": "code",
   "execution_count": 21,
   "id": "fd76ca8b",
   "metadata": {
    "scrolled": true
   },
   "outputs": [
    {
     "data": {
      "text/plain": [
       "(array([[ 2, -2,  1],\n",
       "        [ 1,  1,  1],\n",
       "        [ 3, -2, -1]]),\n",
       " array([[7],\n",
       "        [2],\n",
       "        [3]]))"
      ]
     },
     "execution_count": 21,
     "metadata": {},
     "output_type": "execute_result"
    }
   ],
   "source": [
    "A3 = np.array([[2,-2,1],\n",
    "            [1,1,1],\n",
    "            [3,-2,-1]])\n",
    "b3 = np.array([[7],[2],[3]])\n",
    "# or np.array([2,4])\n",
    "A3,b3"
   ]
  },
  {
   "cell_type": "markdown",
   "id": "6fa32a70",
   "metadata": {},
   "source": [
    "### Find a solution for the above systems of equations using:\n",
    "<b>np.linalg.inv()</b>"
   ]
  },
  {
   "cell_type": "code",
   "execution_count": 32,
   "id": "fd743ec7",
   "metadata": {
    "scrolled": false
   },
   "outputs": [],
   "source": [
    "inv1 = np.linalg.inv(A1)@b1"
   ]
  },
  {
   "cell_type": "code",
   "execution_count": 33,
   "id": "14ea2890",
   "metadata": {},
   "outputs": [],
   "source": [
    "inv2 = np.linalg.inv(A2)@b2"
   ]
  },
  {
   "cell_type": "code",
   "execution_count": 34,
   "id": "3536e1c3",
   "metadata": {},
   "outputs": [],
   "source": [
    "inv3 = np.linalg.inv(A3)@b3"
   ]
  },
  {
   "cell_type": "markdown",
   "id": "6213a04c",
   "metadata": {},
   "source": [
    "### Find a solution for the above systems of equations using:\n",
    "<b>np.linalg.solve()</b>"
   ]
  },
  {
   "cell_type": "code",
   "execution_count": 35,
   "id": "e2dba8f6",
   "metadata": {},
   "outputs": [
    {
     "data": {
      "text/plain": [
       "array([[ 0.90909091],\n",
       "       [-1.36363636],\n",
       "       [ 2.45454545]])"
      ]
     },
     "execution_count": 35,
     "metadata": {},
     "output_type": "execute_result"
    }
   ],
   "source": [
    "np.linalg.solve(a=A3,b=b3)"
   ]
  },
  {
   "cell_type": "markdown",
   "id": "35de5d9a",
   "metadata": {},
   "source": [
    "## Using numpy arrays\n",
    "- For the above systems of equations, multiply matrix <b>A</b> and vector <b>x</b> and make sure the result is <b>b</b>."
   ]
  },
  {
   "cell_type": "code",
   "execution_count": 37,
   "id": "587ad6d5",
   "metadata": {
    "scrolled": false
   },
   "outputs": [
    {
     "data": {
      "text/plain": [
       "array([[2.],\n",
       "       [4.]])"
      ]
     },
     "execution_count": 37,
     "metadata": {},
     "output_type": "execute_result"
    }
   ],
   "source": [
    "np.matmul(A1,inv1)"
   ]
  },
  {
   "cell_type": "code",
   "execution_count": 38,
   "id": "6564621e",
   "metadata": {},
   "outputs": [
    {
     "data": {
      "text/plain": [
       "array([[4.],\n",
       "       [2.]])"
      ]
     },
     "execution_count": 38,
     "metadata": {},
     "output_type": "execute_result"
    }
   ],
   "source": [
    "np.matmul(A2,inv2)"
   ]
  },
  {
   "cell_type": "code",
   "execution_count": 39,
   "id": "3cc9cd71",
   "metadata": {},
   "outputs": [
    {
     "data": {
      "text/plain": [
       "array([[7.],\n",
       "       [2.],\n",
       "       [3.]])"
      ]
     },
     "execution_count": 39,
     "metadata": {},
     "output_type": "execute_result"
    }
   ],
   "source": [
    "A3@inv3"
   ]
  },
  {
   "cell_type": "markdown",
   "id": "5b20d61b",
   "metadata": {},
   "source": [
    "## Vector Norms"
   ]
  },
  {
   "cell_type": "markdown",
   "id": "053d9605",
   "metadata": {},
   "source": [
    "### Calculate in paper then confirm your results using numpy linalg.norm().\n",
    "- Calculate L1, L2, Lmax norms for the following vectors:\n",
    "$$v_1=\\begin{bmatrix} 1 \\\\ 2 \\\\ 3 \\end{bmatrix},\n",
    "v_2=\\begin{bmatrix} 3 \\\\ 3 \\\\ 1 \\\\ 3 \\end{bmatrix}$$\n",
    "- Calculate L3 norm for the vector\n",
    "$$v_3=\\begin{bmatrix} 2 \\\\  3 \\\\ 4 \\end{bmatrix}$$"
   ]
  },
  {
   "cell_type": "code",
   "execution_count": 40,
   "id": "e5187437",
   "metadata": {},
   "outputs": [],
   "source": [
    "v1 = np.array([1,2,3])\n",
    "v2 = np.array([3,3,1,3])\n",
    "v3 = np.array([2,3,4])"
   ]
  },
  {
   "cell_type": "code",
   "execution_count": 41,
   "id": "edd26cb7",
   "metadata": {},
   "outputs": [
    {
     "data": {
      "text/plain": [
       "(6.0, 3.7416573867739413)"
      ]
     },
     "execution_count": 41,
     "metadata": {},
     "output_type": "execute_result"
    }
   ],
   "source": [
    "np.linalg.norm(v1,1),np.linalg.norm(v1,2)"
   ]
  },
  {
   "cell_type": "code",
   "execution_count": 42,
   "id": "5276012c",
   "metadata": {},
   "outputs": [
    {
     "data": {
      "text/plain": [
       "(10.0, 5.291502622129181)"
      ]
     },
     "execution_count": 42,
     "metadata": {},
     "output_type": "execute_result"
    }
   ],
   "source": [
    "np.linalg.norm(v2,1),np.linalg.norm(v2,2)"
   ]
  },
  {
   "cell_type": "code",
   "execution_count": 43,
   "id": "05ccbb20",
   "metadata": {},
   "outputs": [
    {
     "data": {
      "text/plain": [
       "4.626065009182741"
      ]
     },
     "execution_count": 43,
     "metadata": {},
     "output_type": "execute_result"
    }
   ],
   "source": [
    "np.linalg.norm(v3,3)"
   ]
  },
  {
   "cell_type": "markdown",
   "id": "4a09c2e3",
   "metadata": {},
   "source": [
    "## Calculate using numpy only.\n",
    "### Calculate L1, L2, L3, and Lmax for the following vectors:\n",
    "$$v_1=\\begin{bmatrix} 5 \\\\ 6 \\end{bmatrix},\n",
    "v_2=\\begin{bmatrix} 4 \\\\ 3 \\\\ 2 \\end{bmatrix},\n",
    "v_3=\\begin{bmatrix} 4 \\\\ 3 \\\\ 2 \\\\ 8 \\\\ 9 \\end{bmatrix}$$"
   ]
  },
  {
   "cell_type": "code",
   "execution_count": 44,
   "id": "f8024557",
   "metadata": {},
   "outputs": [],
   "source": [
    "v1 = np.array([5,6])\n",
    "v2 = np.array([4,3,2])\n",
    "v3 = np.array([4,3,2,8,9])"
   ]
  },
  {
   "cell_type": "code",
   "execution_count": 45,
   "id": "d8790883",
   "metadata": {},
   "outputs": [
    {
     "data": {
      "text/plain": [
       "(11.0, 7.810249675906654, 6.986368027818105, 6.0)"
      ]
     },
     "execution_count": 45,
     "metadata": {},
     "output_type": "execute_result"
    }
   ],
   "source": [
    "np.linalg.norm(v1,1),np.linalg.norm(v1,2), np.linalg.norm(v1,3), np.linalg.norm(v1,np.Inf)"
   ]
  },
  {
   "cell_type": "code",
   "execution_count": 46,
   "id": "670b989d",
   "metadata": {},
   "outputs": [
    {
     "data": {
      "text/plain": [
       "(9.0, 5.385164807134504, 4.626065009182741, 4.0)"
      ]
     },
     "execution_count": 46,
     "metadata": {},
     "output_type": "execute_result"
    }
   ],
   "source": [
    "np.linalg.norm(v2,1),np.linalg.norm(v2,2), np.linalg.norm(v2,3), np.linalg.norm(v2,np.Inf)"
   ]
  },
  {
   "cell_type": "code",
   "execution_count": 47,
   "id": "20a6a9da",
   "metadata": {},
   "outputs": [
    {
     "data": {
      "text/plain": [
       "(26.0, 13.19090595827292, 11.02473771449733, 9.0)"
      ]
     },
     "execution_count": 47,
     "metadata": {},
     "output_type": "execute_result"
    }
   ],
   "source": [
    "np.linalg.norm(v3,1),np.linalg.norm(v3,2), np.linalg.norm(v3,3), np.linalg.norm(v3,np.Inf)"
   ]
  },
  {
   "cell_type": "markdown",
   "id": "8a1a0092",
   "metadata": {},
   "source": [
    "## Dot Product"
   ]
  },
  {
   "cell_type": "markdown",
   "id": "9560b90d",
   "metadata": {},
   "source": [
    "### Calculate in paper then confirm your results using numpy.\n",
    "#### Calculate the dot product of the following vectors:\n",
    "$$v_1=\\begin{bmatrix} 2 \\\\ -1 \\\\ 5 \\\\ 0 \\end{bmatrix} and\n",
    "v_2=\\begin{bmatrix} 4 \\\\ -3 \\\\ 1 \\\\ -1 \\end{bmatrix}$$\n",
    "#### Calculate the dot product of the following vectors and explain the result:\n",
    "$$v_1=\\begin{bmatrix} 3 \\\\ 2 \\\\ -1 \\\\ 4 \\end{bmatrix} and\n",
    "v_2=\\begin{bmatrix} 1 \\\\ -1 \\\\ 1 \\\\ 0 \\end{bmatrix} $$ "
   ]
  },
  {
   "cell_type": "code",
   "execution_count": 48,
   "id": "ce34a72e",
   "metadata": {},
   "outputs": [
    {
     "data": {
      "text/plain": [
       "16"
      ]
     },
     "execution_count": 48,
     "metadata": {},
     "output_type": "execute_result"
    }
   ],
   "source": [
    "v1 = np.array([2,-1,5,0])\n",
    "v2 = np.array([4,-3,1,-1])\n",
    "np.dot(v1,v2)"
   ]
  },
  {
   "cell_type": "code",
   "execution_count": 49,
   "id": "80b5b407",
   "metadata": {},
   "outputs": [
    {
     "data": {
      "text/plain": [
       "0"
      ]
     },
     "execution_count": 49,
     "metadata": {},
     "output_type": "execute_result"
    }
   ],
   "source": [
    "v1 = np.array([3,2,-1,4])\n",
    "v2 = np.array([1,-1,1,0])\n",
    "np.dot(v1,v2)"
   ]
  },
  {
   "cell_type": "markdown",
   "id": "f56c9a66",
   "metadata": {},
   "source": [
    "## Calculate in paper then confirm your results using numpy.\n",
    "### Create two vectors in 2, 3, and 4 dimensions.\n",
    "### Perform vector addition, subtraction, and dot product of these vectors."
   ]
  },
  {
   "cell_type": "code",
   "execution_count": 58,
   "id": "ee00f96e",
   "metadata": {},
   "outputs": [],
   "source": [
    "a = np.full((2,1), 2)\n",
    "b = np.full((2,1), 3)\n",
    "c = np.full((3,1), 4)\n",
    "d = np.full((3,1), 5)\n",
    "e = np.full((4,1), 4)\n",
    "f = np.full((4,1), 4)"
   ]
  },
  {
   "cell_type": "code",
   "execution_count": 59,
   "id": "125357c1",
   "metadata": {},
   "outputs": [
    {
     "data": {
      "text/plain": [
       "array([[2],\n",
       "       [2]])"
      ]
     },
     "execution_count": 59,
     "metadata": {},
     "output_type": "execute_result"
    }
   ],
   "source": [
    "a"
   ]
  },
  {
   "cell_type": "code",
   "execution_count": 60,
   "id": "3e1c20cb",
   "metadata": {},
   "outputs": [
    {
     "data": {
      "text/plain": [
       "array([[5],\n",
       "       [5]])"
      ]
     },
     "execution_count": 60,
     "metadata": {},
     "output_type": "execute_result"
    }
   ],
   "source": [
    "np.add(a,b)"
   ]
  },
  {
   "cell_type": "code",
   "execution_count": 61,
   "id": "dd611736",
   "metadata": {},
   "outputs": [
    {
     "data": {
      "text/plain": [
       "array([[1],\n",
       "       [1],\n",
       "       [1]])"
      ]
     },
     "execution_count": 61,
     "metadata": {},
     "output_type": "execute_result"
    }
   ],
   "source": [
    "np.subtract(d,c)"
   ]
  },
  {
   "cell_type": "code",
   "execution_count": 62,
   "id": "6feea796",
   "metadata": {},
   "outputs": [
    {
     "data": {
      "text/plain": [
       "64"
      ]
     },
     "execution_count": 62,
     "metadata": {},
     "output_type": "execute_result"
    }
   ],
   "source": [
    "np.dot(e.reshape(-1),f.reshape(-1))"
   ]
  },
  {
   "cell_type": "markdown",
   "id": "2a742954",
   "metadata": {},
   "source": [
    "## Matrix Operations"
   ]
  },
  {
   "cell_type": "markdown",
   "id": "7c857d78",
   "metadata": {},
   "source": [
    "## Calculate in paper then confirm your results using numpy.\n",
    "### Matrix Multiplication AB then Transpose the result.\n",
    "$$A=\\begin{bmatrix} 3&1&0 \\\\ 2&1&2 \\end{bmatrix}, B=\\begin{bmatrix} 1&3 \\\\ 2&5 \\\\ -1&3 \\end{bmatrix}$$\n",
    "$$A=\\begin{bmatrix} 1&0&3 \\\\ 4&5&-1 \\\\ 0&0&2  \\end{bmatrix}, B=\\begin{bmatrix} 1\\\\2\\\\5 \\end{bmatrix}$$"
   ]
  },
  {
   "cell_type": "code",
   "execution_count": 69,
   "id": "9a6d4119",
   "metadata": {},
   "outputs": [
    {
     "data": {
      "text/plain": [
       "(array([[ 5, 14],\n",
       "        [ 2, 17]]),\n",
       " array([[ 5,  2],\n",
       "        [14, 17]]))"
      ]
     },
     "execution_count": 69,
     "metadata": {},
     "output_type": "execute_result"
    }
   ],
   "source": [
    "A = np.array([[3,1,0],\n",
    "            [2,1,2]])\n",
    "B = np.array([[1,3],\n",
    "                [2,5],\n",
    "                [-1,3]])\n",
    "np.matmul(A,B), np.matmul(A,B).T"
   ]
  },
  {
   "cell_type": "code",
   "execution_count": 70,
   "id": "9cf83184",
   "metadata": {},
   "outputs": [
    {
     "data": {
      "text/plain": [
       "(array([[16],\n",
       "        [ 9],\n",
       "        [10]]),\n",
       " array([[16,  9, 10]]))"
      ]
     },
     "execution_count": 70,
     "metadata": {},
     "output_type": "execute_result"
    }
   ],
   "source": [
    "A = np.array([[1,0,3],\n",
    "            [4,5,-1],\n",
    "            [0,0,2]])\n",
    "B = np.array([[1],[2],[5]])\n",
    "np.matmul(A,B), np.matmul(A,B).T"
   ]
  },
  {
   "cell_type": "markdown",
   "id": "a21c1d6f",
   "metadata": {},
   "source": [
    "## Different Types of Matrices\n",
    "### Create 3 by 3 and 4 by 4 identity matrices "
   ]
  },
  {
   "cell_type": "code",
   "execution_count": 65,
   "id": "b8174f59",
   "metadata": {},
   "outputs": [
    {
     "data": {
      "text/plain": [
       "array([[1., 0., 0.],\n",
       "       [0., 1., 0.],\n",
       "       [0., 0., 1.]])"
      ]
     },
     "execution_count": 65,
     "metadata": {},
     "output_type": "execute_result"
    }
   ],
   "source": [
    "np.eye(3)"
   ]
  },
  {
   "cell_type": "code",
   "execution_count": 66,
   "id": "feabc567",
   "metadata": {
    "scrolled": true
   },
   "outputs": [
    {
     "data": {
      "text/plain": [
       "array([[1., 0., 0., 0.],\n",
       "       [0., 1., 0., 0.],\n",
       "       [0., 0., 1., 0.],\n",
       "       [0., 0., 0., 1.]])"
      ]
     },
     "execution_count": 66,
     "metadata": {},
     "output_type": "execute_result"
    }
   ],
   "source": [
    "np.eye(4)"
   ]
  },
  {
   "cell_type": "markdown",
   "id": "3cd908c2",
   "metadata": {},
   "source": [
    "### Create a diagonal matrix contains [2,4,5,11] numbers in its diagonal."
   ]
  },
  {
   "cell_type": "code",
   "execution_count": 67,
   "id": "c622a921",
   "metadata": {},
   "outputs": [
    {
     "data": {
      "text/plain": [
       "array([[ 2,  0,  0,  0],\n",
       "       [ 0,  4,  0,  0],\n",
       "       [ 0,  0,  5,  0],\n",
       "       [ 0,  0,  0, 11]])"
      ]
     },
     "execution_count": 67,
     "metadata": {},
     "output_type": "execute_result"
    }
   ],
   "source": [
    "np.diag([2,4,5,11])"
   ]
  },
  {
   "cell_type": "markdown",
   "id": "7b39f0ce",
   "metadata": {},
   "source": [
    "### Create a 5 by 5 scalar matrix of number 7"
   ]
  },
  {
   "cell_type": "code",
   "execution_count": 99,
   "id": "3bc1166e",
   "metadata": {},
   "outputs": [
    {
     "data": {
      "text/plain": [
       "array([[7., 0., 0., 0., 0.],\n",
       "       [0., 7., 0., 0., 0.],\n",
       "       [0., 0., 7., 0., 0.],\n",
       "       [0., 0., 0., 7., 0.],\n",
       "       [0., 0., 0., 0., 7.]])"
      ]
     },
     "execution_count": 99,
     "metadata": {},
     "output_type": "execute_result"
    }
   ],
   "source": [
    "7*np.eye(5)"
   ]
  },
  {
   "cell_type": "markdown",
   "id": "71946845",
   "metadata": {},
   "source": [
    "### Using SymPy get the rref of the following matrices"
   ]
  },
  {
   "cell_type": "code",
   "execution_count": 71,
   "id": "3890b9a0",
   "metadata": {
    "scrolled": true
   },
   "outputs": [],
   "source": [
    "import sympy as sp"
   ]
  },
  {
   "cell_type": "code",
   "execution_count": 90,
   "id": "cae2dd36",
   "metadata": {},
   "outputs": [
    {
     "data": {
      "text/plain": [
       "(Matrix([\n",
       " [1, 0,   1,   3],\n",
       " [0, 1, 2/3, 1/3],\n",
       " [0, 0,   0,   0]]),\n",
       " (0, 1))"
      ]
     },
     "execution_count": 90,
     "metadata": {},
     "output_type": "execute_result"
    }
   ],
   "source": [
    "A = sp.Matrix([[1,0,1,3],\n",
    "        [2,3,4,7],\n",
    "        [-1,-3,-3,-4]])\n",
    "A.rref()"
   ]
  },
  {
   "cell_type": "code",
   "execution_count": 91,
   "id": "a20bb9c5",
   "metadata": {},
   "outputs": [
    {
     "data": {
      "text/plain": [
       "(Matrix([\n",
       " [1, 0,   1,   3],\n",
       " [0, 1, 2/3, 1/3],\n",
       " [0, 0,   0,   0]]),\n",
       " (0, 1))"
      ]
     },
     "execution_count": 91,
     "metadata": {},
     "output_type": "execute_result"
    }
   ],
   "source": [
    "A = sp.Matrix([[1,0,1,3],\n",
    "        [2,3,4,7],\n",
    "        [-1,-3,-3,-4]])\n",
    "A.rref()\n"
   ]
  },
  {
   "cell_type": "code",
   "execution_count": 92,
   "id": "0c2fd90d",
   "metadata": {},
   "outputs": [
    {
     "data": {
      "text/plain": [
       "(Matrix([\n",
       " [1, 0, 0],\n",
       " [0, 1, 0],\n",
       " [0, 0, 1]]),\n",
       " (0, 1, 2))"
      ]
     },
     "execution_count": 92,
     "metadata": {},
     "output_type": "execute_result"
    }
   ],
   "source": [
    "A = sp.Matrix([[1,1,1],\n",
    "        [1,2,2],\n",
    "        [1,2,3]])\n",
    "A.rref()\n"
   ]
  },
  {
   "cell_type": "code",
   "execution_count": 93,
   "id": "b95001b8",
   "metadata": {},
   "outputs": [
    {
     "data": {
      "text/plain": [
       "(Matrix([\n",
       " [1, 0, 0],\n",
       " [0, 1, 0],\n",
       " [0, 0, 1]]),\n",
       " (0, 1, 2))"
      ]
     },
     "execution_count": 93,
     "metadata": {},
     "output_type": "execute_result"
    }
   ],
   "source": [
    "A = sp.Matrix([[1,2,3],\n",
    "        [2,-1,1],\n",
    "        [3,0,-1]])\n",
    "A.rref()\n"
   ]
  },
  {
   "cell_type": "code",
   "execution_count": 95,
   "id": "d83b2913",
   "metadata": {},
   "outputs": [
    {
     "data": {
      "text/plain": [
       "(Matrix([\n",
       " [1, 0,                 1,                 3],\n",
       " [0, 1, 0.666666666666667, 0.333333333333333],\n",
       " [0, 0,                 0,                 0]]),\n",
       " (0, 1))"
      ]
     },
     "execution_count": 95,
     "metadata": {},
     "output_type": "execute_result"
    }
   ],
   "source": [
    "A = sp.Matrix([[1,0,1,3],\n",
    "        [0,1,2/3,1/3],\n",
    "        [0,0,0,0]])\n",
    "A.rref()\n"
   ]
  },
  {
   "cell_type": "code",
   "execution_count": 80,
   "id": "3e017709",
   "metadata": {},
   "outputs": [
    {
     "data": {
      "text/plain": [
       "(Matrix([\n",
       " [1, 0, 0],\n",
       " [0, 1, 0],\n",
       " [0, 0, 1]]),\n",
       " (0, 1, 2))"
      ]
     },
     "execution_count": 80,
     "metadata": {},
     "output_type": "execute_result"
    }
   ],
   "source": [
    "A = sp.Matrix([[1,0,0],\n",
    "        [0,1,0],\n",
    "        [0,0,1],\n",
    "        ])\n",
    "A.rref()"
   ]
  },
  {
   "cell_type": "code",
   "execution_count": 83,
   "id": "8a8d61e5",
   "metadata": {},
   "outputs": [
    {
     "data": {
      "text/plain": [
       "(Matrix([\n",
       " [1, 0, 0],\n",
       " [0, 1, 0],\n",
       " [0, 0, 1]]),\n",
       " (0, 1, 2))"
      ]
     },
     "execution_count": 83,
     "metadata": {},
     "output_type": "execute_result"
    }
   ],
   "source": [
    "A = sp.Matrix([[1,2,3],\n",
    "        [2,-1,1],\n",
    "        [3,0,-1]])\n",
    "A.rref()"
   ]
  },
  {
   "cell_type": "markdown",
   "id": "bbeff11d",
   "metadata": {},
   "source": [
    "#### Find the solution of the following system of linear equation using SymPy Matrix rref()"
   ]
  },
  {
   "cell_type": "markdown",
   "id": "61dcc75c",
   "metadata": {},
   "source": [
    "1. $$x+y+z=6$$  $$x+2y+2z=9$$  $$x+2y+3z=10$$ \n",
    "$$$$\n",
    "2. $$x+2y+3z=9$$  $$2x-y+z=8$$  $$3x-z=3$$ "
   ]
  },
  {
   "cell_type": "code",
   "execution_count": 84,
   "id": "5b44f38e",
   "metadata": {},
   "outputs": [
    {
     "data": {
      "text/plain": [
       "(Matrix([\n",
       " [1, 0, 0, 3],\n",
       " [0, 1, 0, 2],\n",
       " [0, 0, 1, 1]]),\n",
       " (0, 1, 2))"
      ]
     },
     "execution_count": 84,
     "metadata": {},
     "output_type": "execute_result"
    }
   ],
   "source": [
    "A = sp.Matrix([[1,1,1,6],\n",
    "        [1,2,2,9],\n",
    "        [1,2,3,10]])\n",
    "A.rref()\n",
    "# solution is x = 3, y = 2, z = 1"
   ]
  },
  {
   "cell_type": "code",
   "execution_count": 85,
   "id": "92c73f88",
   "metadata": {},
   "outputs": [
    {
     "data": {
      "text/plain": [
       "(Matrix([\n",
       " [1, 0, 0,  2],\n",
       " [0, 1, 0, -1],\n",
       " [0, 0, 1,  3]]),\n",
       " (0, 1, 2))"
      ]
     },
     "execution_count": 85,
     "metadata": {},
     "output_type": "execute_result"
    }
   ],
   "source": [
    "A = sp.Matrix([[1,2,3,9],\n",
    "        [2,-1,1,8],\n",
    "        [3,0,-1,3]])\n",
    "A.rref()\n",
    "# solution is x = 2, y = -1, z = 3"
   ]
  },
  {
   "cell_type": "markdown",
   "id": "48df16ae",
   "metadata": {},
   "source": [
    "#### Find the solution of the following system of linear equation \n",
    "- Using SymPy Matrix rref()\n",
    "\n",
    "1. $$x-2y=1$$ $$3x-6y=11 $$\n",
    "$$$$\n",
    "2. $$x-2y=1$$ $$3x-6y=3 $$\n",
    "$$$$\n",
    "3. $$x+2y+3z=6$$  $$2x+5y+2z=4$$  $$6x-3y+z=2$$ \n",
    "$$$$\n",
    "4. $$2x+4y-2z=2$$  $$4x+9y-3z=8$$  $$-2x-3y+7z=10$$ "
   ]
  },
  {
   "cell_type": "code",
   "execution_count": 86,
   "id": "43cb6368",
   "metadata": {},
   "outputs": [
    {
     "data": {
      "text/plain": [
       "(Matrix([\n",
       " [1, -2, 0],\n",
       " [0,  0, 1]]),\n",
       " (0, 2))"
      ]
     },
     "execution_count": 86,
     "metadata": {},
     "output_type": "execute_result"
    }
   ],
   "source": [
    "A = sp.Matrix([[1,-2,1],\n",
    "        [3,-6,11]])\n",
    "A.rref()\n",
    "# there is no solution"
   ]
  },
  {
   "cell_type": "code",
   "execution_count": 87,
   "id": "d1af10bc",
   "metadata": {},
   "outputs": [
    {
     "data": {
      "text/plain": [
       "(Matrix([\n",
       " [1, -2, 1],\n",
       " [0,  0, 0]]),\n",
       " (0,))"
      ]
     },
     "execution_count": 87,
     "metadata": {},
     "output_type": "execute_result"
    }
   ],
   "source": [
    "A = sp.Matrix([[1,-2,1],\n",
    "        [3,-6,3]])\n",
    "A.rref()\n",
    "# infinite number of solutions"
   ]
  },
  {
   "cell_type": "code",
   "execution_count": 88,
   "id": "c279c860",
   "metadata": {},
   "outputs": [
    {
     "data": {
      "text/plain": [
       "(Matrix([\n",
       " [1, 0, 0, 0],\n",
       " [0, 1, 0, 0],\n",
       " [0, 0, 1, 2]]),\n",
       " (0, 1, 2))"
      ]
     },
     "execution_count": 88,
     "metadata": {},
     "output_type": "execute_result"
    }
   ],
   "source": [
    "A = sp.Matrix([[1,2,3,6],\n",
    "        [2,5,2,4],\n",
    "        [6,-3,1,2]])\n",
    "A.rref()\n",
    "# solution is x = 0, y = 0, z = 2"
   ]
  },
  {
   "cell_type": "code",
   "execution_count": 89,
   "id": "24e71492",
   "metadata": {},
   "outputs": [
    {
     "data": {
      "text/plain": [
       "(Matrix([\n",
       " [1, 0, 0, -1],\n",
       " [0, 1, 0,  2],\n",
       " [0, 0, 1,  2]]),\n",
       " (0, 1, 2))"
      ]
     },
     "execution_count": 89,
     "metadata": {},
     "output_type": "execute_result"
    }
   ],
   "source": [
    "A = sp.Matrix([[2,4,-2,2],\n",
    "        [4,9,-3,8],\n",
    "        [-2,-3,7,10]])\n",
    "A.rref()\n",
    "# solution is x = -1, y = 2, z = 2"
   ]
  },
  {
   "cell_type": "code",
   "execution_count": null,
   "id": "30d9d644",
   "metadata": {},
   "outputs": [],
   "source": []
  }
 ],
 "metadata": {
  "kernelspec": {
   "display_name": "base",
   "language": "python",
   "name": "python3"
  },
  "language_info": {
   "codemirror_mode": {
    "name": "ipython",
    "version": 3
   },
   "file_extension": ".py",
   "mimetype": "text/x-python",
   "name": "python",
   "nbconvert_exporter": "python",
   "pygments_lexer": "ipython3",
   "version": "3.9.12"
  },
  "vscode": {
   "interpreter": {
    "hash": "3ae364a8bee9e35fdd929719cbdf9e88d2269dcd731e4b2a2c32cc9a820825cc"
   }
  }
 },
 "nbformat": 4,
 "nbformat_minor": 5
}
