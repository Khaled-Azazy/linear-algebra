{
 "cells": [
  {
   "cell_type": "code",
   "execution_count": 2,
   "metadata": {},
   "outputs": [],
   "source": [
    "import numpy as np\n",
    "import sympy as sp"
   ]
  },
  {
   "cell_type": "code",
   "execution_count": 3,
   "metadata": {},
   "outputs": [
    {
     "data": {
      "text/plain": [
       "(array([2, 3]), array([ 6, -1]))"
      ]
     },
     "execution_count": 3,
     "metadata": {},
     "output_type": "execute_result"
    }
   ],
   "source": [
    "# question 1\n",
    "v = np.array([4,1])\n",
    "w = np.array([-2,2])\n",
    "v + w, v - w"
   ]
  },
  {
   "cell_type": "code",
   "execution_count": 4,
   "metadata": {},
   "outputs": [
    {
     "data": {
      "text/plain": [
       "(4.440892098500626e-16, 1.0, 1.0, 10)"
      ]
     },
     "execution_count": 4,
     "metadata": {},
     "output_type": "execute_result"
    }
   ],
   "source": [
    "# question 2\n",
    "u = np.array([-0.6,0.8])\n",
    "v = np.array([4,3])\n",
    "w = np.array([1,2])\n",
    "np.dot(u,v), np.dot(u,w),np.dot(u,(v+w)), np.dot(w,v)"
   ]
  },
  {
   "cell_type": "code",
   "execution_count": 5,
   "metadata": {},
   "outputs": [
    {
     "data": {
      "text/plain": [
       "(1.0, 5.0, 2.23606797749979)"
      ]
     },
     "execution_count": 5,
     "metadata": {},
     "output_type": "execute_result"
    }
   ],
   "source": [
    "# question 3\n",
    "u = np.array([-0.6,0.8])\n",
    "v = np.array([4,3])\n",
    "w = np.array([1,2])\n",
    "\n",
    "np.linalg.norm(u), np.linalg.norm(v), np.linalg.norm(w)"
   ]
  },
  {
   "cell_type": "code",
   "execution_count": 45,
   "metadata": {},
   "outputs": [
    {
     "data": {
      "text/plain": [
       "57.29577951308232"
      ]
     },
     "execution_count": 45,
     "metadata": {},
     "output_type": "execute_result"
    }
   ],
   "source": [
    "# question 4\n",
    "v = np.array([1, 1.732])\n",
    "w = np.array([1,0])\n",
    "np.dot(v,w)\n"
   ]
  },
  {
   "cell_type": "code",
   "execution_count": 7,
   "metadata": {},
   "outputs": [
    {
     "data": {
      "text/plain": [
       "0"
      ]
     },
     "execution_count": 7,
     "metadata": {},
     "output_type": "execute_result"
    }
   ],
   "source": [
    "# question 4\n",
    "v = np.array([2,2,-1])\n",
    "w = np.array([2,-1,2])\n",
    "np.dot(v,w)\n",
    "# so they are prepinduclar"
   ]
  },
  {
   "cell_type": "code",
   "execution_count": 8,
   "metadata": {},
   "outputs": [
    {
     "data": {
      "text/plain": [
       "(array([[18],\n",
       "        [ 5],\n",
       "        [ 0]]),\n",
       " array([[3],\n",
       "        [4],\n",
       "        [5],\n",
       "        [5]]))"
      ]
     },
     "execution_count": 8,
     "metadata": {},
     "output_type": "execute_result"
    }
   ],
   "source": [
    "# question 5\n",
    "a = np.array([[1,2,4],\n",
    "             [-2,3,1],\n",
    "             [-4,1,2]])\n",
    "b = np.array([[2],[2],[3]])\n",
    "\n",
    "c = np.array([[2,1,0,0],\n",
    "             [1,2,1,0],\n",
    "             [0,1,2,1],\n",
    "             [0,0,1,2]])\n",
    "d = np.array([[1],[1],[1],[2]])\n",
    "\n",
    "np.matmul(a,b), np.matmul(c,d)"
   ]
  },
  {
   "cell_type": "code",
   "execution_count": 9,
   "metadata": {},
   "outputs": [
    {
     "data": {
      "text/plain": [
       "array([7, 5])"
      ]
     },
     "execution_count": 9,
     "metadata": {},
     "output_type": "execute_result"
    }
   ],
   "source": [
    "# question 6\n",
    "v = np.array([2,1])\n",
    "w = np.array([1,2])\n",
    "\n",
    "np.add(3*v,w)"
   ]
  },
  {
   "cell_type": "code",
   "execution_count": 10,
   "metadata": {},
   "outputs": [
    {
     "data": {
      "text/plain": [
       "(array([0, 0, 0]), array([-2,  3,  1]))"
      ]
     },
     "execution_count": 10,
     "metadata": {},
     "output_type": "execute_result"
    }
   ],
   "source": [
    "# question 7\n",
    "u = np.array([1,2,3])\n",
    "v = np.array([-3,1,-2])\n",
    "w =  np.array([2,-3,-1])\n",
    "np.add(np.add(u,v),w), np.add(np.add(2*u,2*v),w)"
   ]
  },
  {
   "cell_type": "code",
   "execution_count": 11,
   "metadata": {},
   "outputs": [
    {
     "data": {
      "text/plain": [
       "(Matrix([\n",
       " [1, 0, -1],\n",
       " [0, 1, -1],\n",
       " [0, 0,  0]]),\n",
       " (0, 1))"
      ]
     },
     "execution_count": 11,
     "metadata": {},
     "output_type": "execute_result"
    }
   ],
   "source": [
    "# question 7\n",
    "a = sp.Matrix([[1,-3,2],\n",
    "           [2,1,-3],\n",
    "           [3,-2,-1]])\n",
    "a.rref()"
   ]
  },
  {
   "cell_type": "code",
   "execution_count": 12,
   "metadata": {},
   "outputs": [
    {
     "data": {
      "text/plain": [
       "(Matrix([\n",
       " [1, 0, 2],\n",
       " [0, 1, 4]]),\n",
       " (0, 1))"
      ]
     },
     "execution_count": 12,
     "metadata": {},
     "output_type": "execute_result"
    }
   ],
   "source": [
    "# question 8\n",
    "a = sp.Matrix([[1,3,14],\n",
    "           [2,1,8]])\n",
    "a.rref()"
   ]
  },
  {
   "cell_type": "code",
   "execution_count": 13,
   "metadata": {},
   "outputs": [
    {
     "data": {
      "text/plain": [
       "(array([[-5.,  2.],\n",
       "        [ 3., -1.]]),\n",
       " array([[ 1.5,  0.5],\n",
       "        [-2. , -1. ]]))"
      ]
     },
     "execution_count": 13,
     "metadata": {},
     "output_type": "execute_result"
    }
   ],
   "source": [
    "# question 9\n",
    "A = np.array([[1,2],\n",
    "              [3,5]])\n",
    "\n",
    "B = np.array([[2,1],\n",
    "              [-4,-3]])\n",
    "\n",
    "np.linalg.inv(A), np.linalg.inv(B)"
   ]
  },
  {
   "cell_type": "code",
   "execution_count": 14,
   "metadata": {},
   "outputs": [
    {
     "data": {
      "text/plain": [
       "(Matrix([\n",
       " [1, 0, 0, -15],\n",
       " [0, 1, 0,   8],\n",
       " [0, 0, 1,   2]]),\n",
       " (0, 1, 2))"
      ]
     },
     "execution_count": 14,
     "metadata": {},
     "output_type": "execute_result"
    }
   ],
   "source": [
    "# question 10\n",
    "a = sp.Matrix([[1,3,-2,5],\n",
    "           [3,5,6,7],\n",
    "           [2,4,3,8]])\n",
    "a.rref()"
   ]
  },
  {
   "attachments": {},
   "cell_type": "markdown",
   "metadata": {},
   "source": [
    "there is a sloution for it"
   ]
  },
  {
   "cell_type": "code",
   "execution_count": 15,
   "metadata": {},
   "outputs": [
    {
     "data": {
      "text/plain": [
       "(Matrix([\n",
       " [1, 0, 1],\n",
       " [0, 1, 1],\n",
       " [0, 0, 0]]),\n",
       " (0, 1))"
      ]
     },
     "execution_count": 15,
     "metadata": {},
     "output_type": "execute_result"
    }
   ],
   "source": [
    "# question 11\n",
    "a = sp.Matrix([[1,2,3],\n",
    "           [-1,1,0],\n",
    "           [1,1,2]])\n",
    "a.rref()"
   ]
  },
  {
   "attachments": {},
   "cell_type": "markdown",
   "metadata": {},
   "source": [
    "these vectors are dependent because it has\n",
    "just 2 pivots and the third vector is combination of them"
   ]
  },
  {
   "cell_type": "code",
   "execution_count": 16,
   "metadata": {},
   "outputs": [
    {
     "data": {
      "text/plain": [
       "(11.0, 6.244997998398398, 5.4401218254147965, 5.185427592735, 5.0)"
      ]
     },
     "execution_count": 16,
     "metadata": {},
     "output_type": "execute_result"
    }
   ],
   "source": [
    "# question 12\n",
    "v = np.array([1,3,2,5])\n",
    "np.linalg.norm(v,1),np.linalg.norm(v,2),np.linalg.norm(v,3),np.linalg.norm(v,4),np.linalg.norm(v,np.Inf) "
   ]
  },
  {
   "cell_type": "code",
   "execution_count": 17,
   "metadata": {},
   "outputs": [
    {
     "data": {
      "text/plain": [
       "(Matrix([\n",
       " [1, 0, -1],\n",
       " [0, 1, -9],\n",
       " [0, 0,  0]]),\n",
       " (0, 1))"
      ]
     },
     "execution_count": 17,
     "metadata": {},
     "output_type": "execute_result"
    }
   ],
   "source": [
    "# question 13\n",
    "a = sp.Matrix([[1,-1,8],\n",
    "           [2,-2,16],\n",
    "           [6,-1,3]])\n",
    "a.rref()"
   ]
  },
  {
   "attachments": {},
   "cell_type": "markdown",
   "metadata": {},
   "source": [
    "a = -1 \n",
    "b = -9"
   ]
  },
  {
   "cell_type": "code",
   "execution_count": 18,
   "metadata": {},
   "outputs": [
    {
     "data": {
      "text/plain": [
       "(Matrix([\n",
       " [1, 0, 0],\n",
       " [0, 1, 0],\n",
       " [0, 0, 1]]),\n",
       " (0, 1, 2))"
      ]
     },
     "execution_count": 18,
     "metadata": {},
     "output_type": "execute_result"
    }
   ],
   "source": [
    "# question 14\n",
    "a = sp.Matrix([[0,2,4],\n",
    "           [0,0,1],\n",
    "           [1,1,2]])\n",
    "a.rref()"
   ]
  },
  {
   "attachments": {},
   "cell_type": "markdown",
   "metadata": {},
   "source": [
    "these vectors are linearly indendent\n",
    "so u is not in the span of v and w"
   ]
  },
  {
   "cell_type": "code",
   "execution_count": 19,
   "metadata": {},
   "outputs": [
    {
     "data": {
      "text/plain": [
       "(Matrix([\n",
       " [1, -5/2, 0],\n",
       " [0,    0, 1]]),\n",
       " (0, 2))"
      ]
     },
     "execution_count": 19,
     "metadata": {},
     "output_type": "execute_result"
    }
   ],
   "source": [
    "# question 15\n",
    "a = sp.Matrix([[-4,10,6],\n",
    "           [2,-5,3]])\n",
    "a.rref()"
   ]
  },
  {
   "attachments": {},
   "cell_type": "markdown",
   "metadata": {},
   "source": [
    "no solution"
   ]
  },
  {
   "cell_type": "code",
   "execution_count": 20,
   "metadata": {},
   "outputs": [],
   "source": [
    "# question 16\n",
    "# [1,0]\n",
    "# [0 3]\n",
    "# are just scaled"
   ]
  },
  {
   "cell_type": "code",
   "execution_count": 21,
   "metadata": {},
   "outputs": [],
   "source": [
    "# question 17\n",
    "# [3,0]\n",
    "# [0 3]\n",
    "# are just scaled"
   ]
  },
  {
   "cell_type": "code",
   "execution_count": 22,
   "metadata": {},
   "outputs": [],
   "source": [
    "# question 18\n",
    "# [1 0 0]\n",
    "# [0 1 0]\n",
    "# [0 0 -1]\n",
    "# are just scaled \n",
    "# and change the direction of z\n"
   ]
  },
  {
   "cell_type": "code",
   "execution_count": 23,
   "metadata": {},
   "outputs": [],
   "source": [
    "# question 19\n",
    "# determent is zeros meaning collapsing space\n",
    "# because the is no area or vloume for the matrix\n"
   ]
  },
  {
   "cell_type": "code",
   "execution_count": 24,
   "metadata": {},
   "outputs": [],
   "source": [
    "# question 20\n",
    "# because the is no area or vloume for the matrix\n",
    "# and that means these vectors are dependent\n"
   ]
  },
  {
   "cell_type": "code",
   "execution_count": 25,
   "metadata": {},
   "outputs": [],
   "source": [
    "# question 21\n",
    "# because the is no area or vloume for the matrix\n",
    "# and that means these vectors are dependent\n",
    "# so I can't tell if it is rank 1 or 2\n",
    "# because these vectors could be in \n",
    "# 1d space if just one was indepented\n",
    "# or 2 2d space if 2 vectors are independent"
   ]
  },
  {
   "cell_type": "code",
   "execution_count": 26,
   "metadata": {},
   "outputs": [
    {
     "data": {
      "text/plain": [
       "(Matrix([\n",
       " [1, 0, 0],\n",
       " [0, 1, 0],\n",
       " [0, 0, 1]]),\n",
       " (0, 1, 2))"
      ]
     },
     "execution_count": 26,
     "metadata": {},
     "output_type": "execute_result"
    }
   ],
   "source": [
    "# question 22\n",
    "a = sp.Matrix([[1,2,4],\n",
    "           [-2,3,1],\n",
    "           [-4,1,2]])\n",
    "a.rref()"
   ]
  },
  {
   "attachments": {},
   "cell_type": "markdown",
   "metadata": {},
   "source": [
    "it is rank 3 because we have 3 pivot columns\n",
    "so they are independent"
   ]
  },
  {
   "cell_type": "code",
   "execution_count": 27,
   "metadata": {},
   "outputs": [
    {
     "data": {
      "text/plain": [
       "3"
      ]
     },
     "execution_count": 27,
     "metadata": {},
     "output_type": "execute_result"
    }
   ],
   "source": [
    "# question 23\n",
    "a = np.array([[1,2,4],\n",
    "           [-2,3,1],\n",
    "           [-4,1,2]])\n",
    "np.linalg.matrix_rank(a)"
   ]
  },
  {
   "cell_type": "code",
   "execution_count": 28,
   "metadata": {},
   "outputs": [
    {
     "data": {
      "text/plain": [
       "(Matrix([\n",
       " [1, 0, 0],\n",
       " [0, 1, 0],\n",
       " [0, 0, 1]]),\n",
       " (0, 1, 2))"
      ]
     },
     "execution_count": 28,
     "metadata": {},
     "output_type": "execute_result"
    }
   ],
   "source": [
    "# question 24\n",
    "a = sp.Matrix([[1,1,0],\n",
    "           [-1,1,0],\n",
    "           [0,0,1]])\n",
    "a.rref()"
   ]
  },
  {
   "attachments": {},
   "cell_type": "markdown",
   "metadata": {},
   "source": [
    "these vector are independent\n",
    "so they are spanning the whole 3d space\n",
    "so they are orthogonal"
   ]
  },
  {
   "cell_type": "code",
   "execution_count": 29,
   "metadata": {},
   "outputs": [
    {
     "data": {
      "text/plain": [
       "array([-2.,  5.,  4.])"
      ]
     },
     "execution_count": 29,
     "metadata": {},
     "output_type": "execute_result"
    }
   ],
   "source": [
    "# question 24\n",
    "v = np.array([3,7,4])\n",
    "np.linalg.solve(np.array([[1,1,0],\n",
    "           [-1,1,0],\n",
    "           [0,0,1]]),v)"
   ]
  },
  {
   "cell_type": "code",
   "execution_count": 30,
   "metadata": {},
   "outputs": [
    {
     "data": {
      "text/plain": [
       "(Matrix([\n",
       " [1, 0],\n",
       " [0, 1]]),\n",
       " (0, 1))"
      ]
     },
     "execution_count": 30,
     "metadata": {},
     "output_type": "execute_result"
    }
   ],
   "source": [
    "# question 25\n",
    "a = sp.Matrix([[1,-1],\n",
    "           [2,2]])\n",
    "a.rref()"
   ]
  },
  {
   "cell_type": "code",
   "execution_count": 31,
   "metadata": {},
   "outputs": [
    {
     "data": {
      "text/plain": [
       "(2.23606797749979, 2.23606797749979)"
      ]
     },
     "execution_count": 31,
     "metadata": {},
     "output_type": "execute_result"
    }
   ],
   "source": [
    "# question 25\n",
    "# and we need to check the norms of the vectors\n",
    "np.linalg.norm(np.array([1,2])),np.linalg.norm(np.array([-1,2])) "
   ]
  },
  {
   "attachments": {},
   "cell_type": "markdown",
   "metadata": {},
   "source": [
    "they are not unit vectors\n",
    "so they are just orthogonal"
   ]
  },
  {
   "cell_type": "code",
   "execution_count": 32,
   "metadata": {},
   "outputs": [],
   "source": [
    "# question 26\n",
    "# doesn't change span"
   ]
  },
  {
   "cell_type": "code",
   "execution_count": 33,
   "metadata": {},
   "outputs": [],
   "source": [
    "# question 27\n",
    "# at least one if it is collapsing space"
   ]
  },
  {
   "cell_type": "code",
   "execution_count": 34,
   "metadata": {},
   "outputs": [],
   "source": [
    "# question 28\n",
    "# must have eign value represent how it scaled"
   ]
  },
  {
   "cell_type": "code",
   "execution_count": 35,
   "metadata": {},
   "outputs": [
    {
     "data": {
      "text/plain": [
       "(array([-1.,  5.]),\n",
       " array([[-0.89442719, -0.70710678],\n",
       "        [ 0.4472136 , -0.70710678]]))"
      ]
     },
     "execution_count": 35,
     "metadata": {},
     "output_type": "execute_result"
    }
   ],
   "source": [
    "# question 29\n",
    "a = np.array([[1,4],\n",
    "         [2,3]])\n",
    "np.linalg.eig(a)"
   ]
  },
  {
   "cell_type": "code",
   "execution_count": 44,
   "metadata": {},
   "outputs": [
    {
     "data": {
      "text/plain": [
       "(Matrix([\n",
       " [1, 0],\n",
       " [0, 1]]),\n",
       " (0, 1))"
      ]
     },
     "execution_count": 44,
     "metadata": {},
     "output_type": "execute_result"
    }
   ],
   "source": [
    "# question 30\n",
    "a = sp.Matrix([[-0.89442719,-4],\n",
    "           [0.4472136,2]])\n",
    "a.rref()"
   ]
  },
  {
   "attachments": {},
   "cell_type": "markdown",
   "metadata": {},
   "source": [
    "here these vectors are differnet \n",
    "so we they are not the same"
   ]
  },
  {
   "cell_type": "code",
   "execution_count": 37,
   "metadata": {},
   "outputs": [],
   "source": [
    "# question 31\n",
    "# Helps in data visualization and speed up the learning algorithms."
   ]
  },
  {
   "cell_type": "code",
   "execution_count": 38,
   "metadata": {},
   "outputs": [],
   "source": [
    "# question 32\n",
    "# Is the projection of the original data on the principal component axes.\n"
   ]
  },
  {
   "cell_type": "code",
   "execution_count": 39,
   "metadata": {},
   "outputs": [],
   "source": [
    "# question 33\n",
    "# The axes are orthonormal."
   ]
  },
  {
   "cell_type": "code",
   "execution_count": 40,
   "metadata": {},
   "outputs": [],
   "source": [
    "# question 34\n",
    "# It can be applied directly to the data matrix."
   ]
  },
  {
   "cell_type": "code",
   "execution_count": 41,
   "metadata": {},
   "outputs": [],
   "source": [
    "# question 35\n",
    "# How much variance that each principal component preserves."
   ]
  },
  {
   "cell_type": "code",
   "execution_count": null,
   "metadata": {},
   "outputs": [],
   "source": []
  }
 ],
 "metadata": {
  "kernelspec": {
   "display_name": "base",
   "language": "python",
   "name": "python3"
  },
  "language_info": {
   "codemirror_mode": {
    "name": "ipython",
    "version": 3
   },
   "file_extension": ".py",
   "mimetype": "text/x-python",
   "name": "python",
   "nbconvert_exporter": "python",
   "pygments_lexer": "ipython3",
   "version": "3.9.12"
  },
  "orig_nbformat": 4,
  "vscode": {
   "interpreter": {
    "hash": "3ae364a8bee9e35fdd929719cbdf9e88d2269dcd731e4b2a2c32cc9a820825cc"
   }
  }
 },
 "nbformat": 4,
 "nbformat_minor": 2
}
